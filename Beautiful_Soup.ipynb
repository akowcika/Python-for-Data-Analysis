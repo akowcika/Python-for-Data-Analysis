{
  "nbformat": 4,
  "nbformat_minor": 0,
  "metadata": {
    "colab": {
      "name": "Beautiful Soup.ipynb",
      "provenance": [],
      "collapsed_sections": [],
      "authorship_tag": "ABX9TyP7D8PCPaPF5N3du2xEmwZa",
      "include_colab_link": true
    },
    "kernelspec": {
      "name": "python3",
      "display_name": "Python 3"
    },
    "language_info": {
      "name": "python"
    }
  },
  "cells": [
    {
      "cell_type": "markdown",
      "metadata": {
        "id": "view-in-github",
        "colab_type": "text"
      },
      "source": [
        "<a href=\"https://colab.research.google.com/github/akowcika/sample-projects/blob/main/Beautiful_Soup.ipynb\" target=\"_parent\"><img src=\"https://colab.research.google.com/assets/colab-badge.svg\" alt=\"Open In Colab\"/></a>"
      ]
    },
    {
      "cell_type": "markdown",
      "source": [
        "# Beautiful Soup and Web-ScrappingSimple Project"
      ],
      "metadata": {
        "id": "1hptAZtCun7V"
      }
    },
    {
      "cell_type": "markdown",
      "source": [
        "## Importing Packages"
      ],
      "metadata": {
        "id": "L1u3qPYquUvh"
      }
    },
    {
      "cell_type": "code",
      "execution_count": 2,
      "metadata": {
        "id": "AZIm3yxWpbbU"
      },
      "outputs": [],
      "source": [
        "from bs4 import BeautifulSoup\n",
        "import requests"
      ]
    },
    {
      "cell_type": "markdown",
      "source": [
        "## Website Link"
      ],
      "metadata": {
        "id": "1cz-QDj9ucVc"
      }
    },
    {
      "cell_type": "code",
      "source": [
        "response=requests.get(\"https://ravindrababuravula.com/courses.php\")\n",
        "soup=BeautifulSoup(response.text,\"html.parser\")"
      ],
      "metadata": {
        "id": "7ML9FQl9phcr"
      },
      "execution_count": 3,
      "outputs": []
    },
    {
      "cell_type": "markdown",
      "source": [
        "### Scrapping titles from the web:"
      ],
      "metadata": {
        "id": "kpJXVO8Lu-K6"
      }
    },
    {
      "cell_type": "code",
      "source": [
        "L1=[]\n",
        "for trip in soup.find_all(\"div\", class_=\"edugate-content\"):\n",
        "    print(trip.a.text)\n",
        "    L1.append(trip.a.text)\n",
        "L1"
      ],
      "metadata": {
        "colab": {
          "base_uri": "https://localhost:8080/"
        },
        "id": "T6acf4j4pkzx",
        "outputId": "c80f8148-432e-4c6a-d8eb-2d1d50904dac"
      },
      "execution_count": 4,
      "outputs": [
        {
          "output_type": "stream",
          "name": "stdout",
          "text": [
            "GATE\n",
            "Job Interview Preparation \n",
            "Technologies\n"
          ]
        },
        {
          "output_type": "execute_result",
          "data": {
            "text/plain": [
              "['GATE', 'Job Interview Preparation ', 'Technologies']"
            ]
          },
          "metadata": {},
          "execution_count": 4
        }
      ]
    },
    {
      "cell_type": "markdown",
      "source": [
        "### Scrapping description from the web:"
      ],
      "metadata": {
        "id": "ca9L_1ZLu8jz"
      }
    },
    {
      "cell_type": "code",
      "source": [
        "L2=[]\n",
        "for trip1 in soup.find_all(\"div\", class_=\"description\"):\n",
        "    L2.append(trip1.text)\n",
        "    print(trip1.text)"
      ],
      "metadata": {
        "colab": {
          "base_uri": "https://localhost:8080/"
        },
        "id": "2N7NVu8kpnyh",
        "outputId": "64f2e125-2864-47fc-f1cb-679d7a5a6bb5"
      },
      "execution_count": 5,
      "outputs": [
        {
          "output_type": "stream",
          "name": "stdout",
          "text": [
            "Every subject is taught from scratch and contains concepts, solved examples, important previous year GATE questions, practice questions and the test series\n",
            "It is a mix of theory and practice. we will explain all the possible ways to solve a problem and analyse each solution using Time & Space Complexity.\n",
            "We chose the Trending Technologies which are high in demand in the job market. Hybrid teaching style with the help of conventional white board and the digital screen for easy understanding.\n"
          ]
        }
      ]
    },
    {
      "cell_type": "markdown",
      "source": [
        "#### Creating the DataFrame using the scrapped data:"
      ],
      "metadata": {
        "id": "qgZ3qoo0vX0q"
      }
    },
    {
      "cell_type": "code",
      "source": [
        "import pandas as pd\n",
        "df = pd.DataFrame(list(zip(L1,L2)))\n",
        "df"
      ],
      "metadata": {
        "colab": {
          "base_uri": "https://localhost:8080/",
          "height": 143
        },
        "id": "YEAAS921pqja",
        "outputId": "c203bd7f-71b4-4143-978d-27bcbc46b1fd"
      },
      "execution_count": 6,
      "outputs": [
        {
          "output_type": "execute_result",
          "data": {
            "text/plain": [
              "                            0  \\\n",
              "0                        GATE   \n",
              "1  Job Interview Preparation    \n",
              "2                Technologies   \n",
              "\n",
              "                                                   1  \n",
              "0  Every subject is taught from scratch and conta...  \n",
              "1  It is a mix of theory and practice. we will ex...  \n",
              "2  We chose the Trending Technologies which are h...  "
            ],
            "text/html": [
              "\n",
              "  <div id=\"df-2d614bf9-f6ba-4546-93ae-27342bb01207\">\n",
              "    <div class=\"colab-df-container\">\n",
              "      <div>\n",
              "<style scoped>\n",
              "    .dataframe tbody tr th:only-of-type {\n",
              "        vertical-align: middle;\n",
              "    }\n",
              "\n",
              "    .dataframe tbody tr th {\n",
              "        vertical-align: top;\n",
              "    }\n",
              "\n",
              "    .dataframe thead th {\n",
              "        text-align: right;\n",
              "    }\n",
              "</style>\n",
              "<table border=\"1\" class=\"dataframe\">\n",
              "  <thead>\n",
              "    <tr style=\"text-align: right;\">\n",
              "      <th></th>\n",
              "      <th>0</th>\n",
              "      <th>1</th>\n",
              "    </tr>\n",
              "  </thead>\n",
              "  <tbody>\n",
              "    <tr>\n",
              "      <th>0</th>\n",
              "      <td>GATE</td>\n",
              "      <td>Every subject is taught from scratch and conta...</td>\n",
              "    </tr>\n",
              "    <tr>\n",
              "      <th>1</th>\n",
              "      <td>Job Interview Preparation</td>\n",
              "      <td>It is a mix of theory and practice. we will ex...</td>\n",
              "    </tr>\n",
              "    <tr>\n",
              "      <th>2</th>\n",
              "      <td>Technologies</td>\n",
              "      <td>We chose the Trending Technologies which are h...</td>\n",
              "    </tr>\n",
              "  </tbody>\n",
              "</table>\n",
              "</div>\n",
              "      <button class=\"colab-df-convert\" onclick=\"convertToInteractive('df-2d614bf9-f6ba-4546-93ae-27342bb01207')\"\n",
              "              title=\"Convert this dataframe to an interactive table.\"\n",
              "              style=\"display:none;\">\n",
              "        \n",
              "  <svg xmlns=\"http://www.w3.org/2000/svg\" height=\"24px\"viewBox=\"0 0 24 24\"\n",
              "       width=\"24px\">\n",
              "    <path d=\"M0 0h24v24H0V0z\" fill=\"none\"/>\n",
              "    <path d=\"M18.56 5.44l.94 2.06.94-2.06 2.06-.94-2.06-.94-.94-2.06-.94 2.06-2.06.94zm-11 1L8.5 8.5l.94-2.06 2.06-.94-2.06-.94L8.5 2.5l-.94 2.06-2.06.94zm10 10l.94 2.06.94-2.06 2.06-.94-2.06-.94-.94-2.06-.94 2.06-2.06.94z\"/><path d=\"M17.41 7.96l-1.37-1.37c-.4-.4-.92-.59-1.43-.59-.52 0-1.04.2-1.43.59L10.3 9.45l-7.72 7.72c-.78.78-.78 2.05 0 2.83L4 21.41c.39.39.9.59 1.41.59.51 0 1.02-.2 1.41-.59l7.78-7.78 2.81-2.81c.8-.78.8-2.07 0-2.86zM5.41 20L4 18.59l7.72-7.72 1.47 1.35L5.41 20z\"/>\n",
              "  </svg>\n",
              "      </button>\n",
              "      \n",
              "  <style>\n",
              "    .colab-df-container {\n",
              "      display:flex;\n",
              "      flex-wrap:wrap;\n",
              "      gap: 12px;\n",
              "    }\n",
              "\n",
              "    .colab-df-convert {\n",
              "      background-color: #E8F0FE;\n",
              "      border: none;\n",
              "      border-radius: 50%;\n",
              "      cursor: pointer;\n",
              "      display: none;\n",
              "      fill: #1967D2;\n",
              "      height: 32px;\n",
              "      padding: 0 0 0 0;\n",
              "      width: 32px;\n",
              "    }\n",
              "\n",
              "    .colab-df-convert:hover {\n",
              "      background-color: #E2EBFA;\n",
              "      box-shadow: 0px 1px 2px rgba(60, 64, 67, 0.3), 0px 1px 3px 1px rgba(60, 64, 67, 0.15);\n",
              "      fill: #174EA6;\n",
              "    }\n",
              "\n",
              "    [theme=dark] .colab-df-convert {\n",
              "      background-color: #3B4455;\n",
              "      fill: #D2E3FC;\n",
              "    }\n",
              "\n",
              "    [theme=dark] .colab-df-convert:hover {\n",
              "      background-color: #434B5C;\n",
              "      box-shadow: 0px 1px 3px 1px rgba(0, 0, 0, 0.15);\n",
              "      filter: drop-shadow(0px 1px 2px rgba(0, 0, 0, 0.3));\n",
              "      fill: #FFFFFF;\n",
              "    }\n",
              "  </style>\n",
              "\n",
              "      <script>\n",
              "        const buttonEl =\n",
              "          document.querySelector('#df-2d614bf9-f6ba-4546-93ae-27342bb01207 button.colab-df-convert');\n",
              "        buttonEl.style.display =\n",
              "          google.colab.kernel.accessAllowed ? 'block' : 'none';\n",
              "\n",
              "        async function convertToInteractive(key) {\n",
              "          const element = document.querySelector('#df-2d614bf9-f6ba-4546-93ae-27342bb01207');\n",
              "          const dataTable =\n",
              "            await google.colab.kernel.invokeFunction('convertToInteractive',\n",
              "                                                     [key], {});\n",
              "          if (!dataTable) return;\n",
              "\n",
              "          const docLinkHtml = 'Like what you see? Visit the ' +\n",
              "            '<a target=\"_blank\" href=https://colab.research.google.com/notebooks/data_table.ipynb>data table notebook</a>'\n",
              "            + ' to learn more about interactive tables.';\n",
              "          element.innerHTML = '';\n",
              "          dataTable['output_type'] = 'display_data';\n",
              "          await google.colab.output.renderOutput(dataTable, element);\n",
              "          const docLink = document.createElement('div');\n",
              "          docLink.innerHTML = docLinkHtml;\n",
              "          element.appendChild(docLink);\n",
              "        }\n",
              "      </script>\n",
              "    </div>\n",
              "  </div>\n",
              "  "
            ]
          },
          "metadata": {},
          "execution_count": 6
        }
      ]
    },
    {
      "cell_type": "markdown",
      "source": [
        "#### Scrapping the data using split function:"
      ],
      "metadata": {
        "id": "8SvEiDRRvgvN"
      }
    },
    {
      "cell_type": "code",
      "source": [
        "x1=\"https://ravindrababuravula.com/assets/images/courses/\"\n",
        "L5=[]\n",
        "for trip2 in soup.find_all(\"div\",class_=\"edugate-image\"):\n",
        "    #print(trip2)\n",
        "    x=trip2.find(\"img\",alt=\"\",class_=\"img-responsive\")['src']\n",
        "    y=x.split('/')\n",
        "    L3=y[3]\n",
        "    L4=x1+y[3]\n",
        "    L5.append(L4)\n",
        "    print(y[3])\n",
        "    print(L4)"
      ],
      "metadata": {
        "colab": {
          "base_uri": "https://localhost:8080/"
        },
        "id": "4NUL3wk_p3e9",
        "outputId": "53eef708-09d6-4d7b-c447-5047650aaabf"
      },
      "execution_count": 14,
      "outputs": [
        {
          "output_type": "stream",
          "name": "stdout",
          "text": [
            "courses-4.jpg\n",
            "https://ravindrababuravula.com/assets/images/courses/courses-4.jpg\n",
            "courses-3.jpg\n",
            "https://ravindrababuravula.com/assets/images/courses/courses-3.jpg\n",
            "courses-2.jpg\n",
            "https://ravindrababuravula.com/assets/images/courses/courses-2.jpg\n"
          ]
        }
      ]
    },
    {
      "cell_type": "markdown",
      "source": [
        "#### Inserting Title using Dictionary:"
      ],
      "metadata": {
        "id": "fnxX72OGvxXB"
      }
    },
    {
      "cell_type": "code",
      "source": [
        "d = {'Title':L1,'Courses':L2, 'Image Link': L5}\n",
        "d"
      ],
      "metadata": {
        "colab": {
          "base_uri": "https://localhost:8080/"
        },
        "id": "NhlQHCaurMUY",
        "outputId": "7adab16b-a8c9-48a4-90d2-6e45bc6ff1e5"
      },
      "execution_count": 15,
      "outputs": [
        {
          "output_type": "execute_result",
          "data": {
            "text/plain": [
              "{'Courses': ['Every subject is taught from scratch and contains concepts, solved examples, important previous year GATE questions, practice questions and the test series',\n",
              "  'It is a mix of theory and practice. we will explain all the possible ways to solve a problem and analyse each solution using Time & Space Complexity.',\n",
              "  'We chose the Trending Technologies which are high in demand in the job market. Hybrid teaching style with the help of conventional white board and the digital screen for easy understanding.'],\n",
              " 'Image Link': ['https://ravindrababuravula.com/assets/images/courses/courses-4.jpg',\n",
              "  'https://ravindrababuravula.com/assets/images/courses/courses-3.jpg',\n",
              "  'https://ravindrababuravula.com/assets/images/courses/courses-2.jpg'],\n",
              " 'Title': ['GATE', 'Job Interview Preparation ', 'Technologies']}"
            ]
          },
          "metadata": {},
          "execution_count": 15
        }
      ]
    },
    {
      "cell_type": "markdown",
      "source": [
        ""
      ],
      "metadata": {
        "id": "SuKjiBwFv6TE"
      }
    },
    {
      "cell_type": "code",
      "source": [
        "df = pd.DataFrame(d, columns=['Title','Courses','Image Link'])\n",
        "pd.set_option('display.max_colwidth', None)\n",
        "df"
      ],
      "metadata": {
        "colab": {
          "base_uri": "https://localhost:8080/",
          "height": 240
        },
        "id": "CzEN236TtId_",
        "outputId": "433e5f32-ee7f-488e-af66-9a96b930b9e0"
      },
      "execution_count": 17,
      "outputs": [
        {
          "output_type": "execute_result",
          "data": {
            "text/plain": [
              "                        Title  \\\n",
              "0                        GATE   \n",
              "1  Job Interview Preparation    \n",
              "2                Technologies   \n",
              "\n",
              "                                                                                                                                                                                         Courses  \\\n",
              "0                                    Every subject is taught from scratch and contains concepts, solved examples, important previous year GATE questions, practice questions and the test series   \n",
              "1                                          It is a mix of theory and practice. we will explain all the possible ways to solve a problem and analyse each solution using Time & Space Complexity.   \n",
              "2  We chose the Trending Technologies which are high in demand in the job market. Hybrid teaching style with the help of conventional white board and the digital screen for easy understanding.   \n",
              "\n",
              "                                                           Image Link  \n",
              "0  https://ravindrababuravula.com/assets/images/courses/courses-4.jpg  \n",
              "1  https://ravindrababuravula.com/assets/images/courses/courses-3.jpg  \n",
              "2  https://ravindrababuravula.com/assets/images/courses/courses-2.jpg  "
            ],
            "text/html": [
              "\n",
              "  <div id=\"df-6908d5ef-61d6-4d67-aa85-c3117ffdb507\">\n",
              "    <div class=\"colab-df-container\">\n",
              "      <div>\n",
              "<style scoped>\n",
              "    .dataframe tbody tr th:only-of-type {\n",
              "        vertical-align: middle;\n",
              "    }\n",
              "\n",
              "    .dataframe tbody tr th {\n",
              "        vertical-align: top;\n",
              "    }\n",
              "\n",
              "    .dataframe thead th {\n",
              "        text-align: right;\n",
              "    }\n",
              "</style>\n",
              "<table border=\"1\" class=\"dataframe\">\n",
              "  <thead>\n",
              "    <tr style=\"text-align: right;\">\n",
              "      <th></th>\n",
              "      <th>Title</th>\n",
              "      <th>Courses</th>\n",
              "      <th>Image Link</th>\n",
              "    </tr>\n",
              "  </thead>\n",
              "  <tbody>\n",
              "    <tr>\n",
              "      <th>0</th>\n",
              "      <td>GATE</td>\n",
              "      <td>Every subject is taught from scratch and contains concepts, solved examples, important previous year GATE questions, practice questions and the test series</td>\n",
              "      <td>https://ravindrababuravula.com/assets/images/courses/courses-4.jpg</td>\n",
              "    </tr>\n",
              "    <tr>\n",
              "      <th>1</th>\n",
              "      <td>Job Interview Preparation</td>\n",
              "      <td>It is a mix of theory and practice. we will explain all the possible ways to solve a problem and analyse each solution using Time &amp; Space Complexity.</td>\n",
              "      <td>https://ravindrababuravula.com/assets/images/courses/courses-3.jpg</td>\n",
              "    </tr>\n",
              "    <tr>\n",
              "      <th>2</th>\n",
              "      <td>Technologies</td>\n",
              "      <td>We chose the Trending Technologies which are high in demand in the job market. Hybrid teaching style with the help of conventional white board and the digital screen for easy understanding.</td>\n",
              "      <td>https://ravindrababuravula.com/assets/images/courses/courses-2.jpg</td>\n",
              "    </tr>\n",
              "  </tbody>\n",
              "</table>\n",
              "</div>\n",
              "      <button class=\"colab-df-convert\" onclick=\"convertToInteractive('df-6908d5ef-61d6-4d67-aa85-c3117ffdb507')\"\n",
              "              title=\"Convert this dataframe to an interactive table.\"\n",
              "              style=\"display:none;\">\n",
              "        \n",
              "  <svg xmlns=\"http://www.w3.org/2000/svg\" height=\"24px\"viewBox=\"0 0 24 24\"\n",
              "       width=\"24px\">\n",
              "    <path d=\"M0 0h24v24H0V0z\" fill=\"none\"/>\n",
              "    <path d=\"M18.56 5.44l.94 2.06.94-2.06 2.06-.94-2.06-.94-.94-2.06-.94 2.06-2.06.94zm-11 1L8.5 8.5l.94-2.06 2.06-.94-2.06-.94L8.5 2.5l-.94 2.06-2.06.94zm10 10l.94 2.06.94-2.06 2.06-.94-2.06-.94-.94-2.06-.94 2.06-2.06.94z\"/><path d=\"M17.41 7.96l-1.37-1.37c-.4-.4-.92-.59-1.43-.59-.52 0-1.04.2-1.43.59L10.3 9.45l-7.72 7.72c-.78.78-.78 2.05 0 2.83L4 21.41c.39.39.9.59 1.41.59.51 0 1.02-.2 1.41-.59l7.78-7.78 2.81-2.81c.8-.78.8-2.07 0-2.86zM5.41 20L4 18.59l7.72-7.72 1.47 1.35L5.41 20z\"/>\n",
              "  </svg>\n",
              "      </button>\n",
              "      \n",
              "  <style>\n",
              "    .colab-df-container {\n",
              "      display:flex;\n",
              "      flex-wrap:wrap;\n",
              "      gap: 12px;\n",
              "    }\n",
              "\n",
              "    .colab-df-convert {\n",
              "      background-color: #E8F0FE;\n",
              "      border: none;\n",
              "      border-radius: 50%;\n",
              "      cursor: pointer;\n",
              "      display: none;\n",
              "      fill: #1967D2;\n",
              "      height: 32px;\n",
              "      padding: 0 0 0 0;\n",
              "      width: 32px;\n",
              "    }\n",
              "\n",
              "    .colab-df-convert:hover {\n",
              "      background-color: #E2EBFA;\n",
              "      box-shadow: 0px 1px 2px rgba(60, 64, 67, 0.3), 0px 1px 3px 1px rgba(60, 64, 67, 0.15);\n",
              "      fill: #174EA6;\n",
              "    }\n",
              "\n",
              "    [theme=dark] .colab-df-convert {\n",
              "      background-color: #3B4455;\n",
              "      fill: #D2E3FC;\n",
              "    }\n",
              "\n",
              "    [theme=dark] .colab-df-convert:hover {\n",
              "      background-color: #434B5C;\n",
              "      box-shadow: 0px 1px 3px 1px rgba(0, 0, 0, 0.15);\n",
              "      filter: drop-shadow(0px 1px 2px rgba(0, 0, 0, 0.3));\n",
              "      fill: #FFFFFF;\n",
              "    }\n",
              "  </style>\n",
              "\n",
              "      <script>\n",
              "        const buttonEl =\n",
              "          document.querySelector('#df-6908d5ef-61d6-4d67-aa85-c3117ffdb507 button.colab-df-convert');\n",
              "        buttonEl.style.display =\n",
              "          google.colab.kernel.accessAllowed ? 'block' : 'none';\n",
              "\n",
              "        async function convertToInteractive(key) {\n",
              "          const element = document.querySelector('#df-6908d5ef-61d6-4d67-aa85-c3117ffdb507');\n",
              "          const dataTable =\n",
              "            await google.colab.kernel.invokeFunction('convertToInteractive',\n",
              "                                                     [key], {});\n",
              "          if (!dataTable) return;\n",
              "\n",
              "          const docLinkHtml = 'Like what you see? Visit the ' +\n",
              "            '<a target=\"_blank\" href=https://colab.research.google.com/notebooks/data_table.ipynb>data table notebook</a>'\n",
              "            + ' to learn more about interactive tables.';\n",
              "          element.innerHTML = '';\n",
              "          dataTable['output_type'] = 'display_data';\n",
              "          await google.colab.output.renderOutput(dataTable, element);\n",
              "          const docLink = document.createElement('div');\n",
              "          docLink.innerHTML = docLinkHtml;\n",
              "          element.appendChild(docLink);\n",
              "        }\n",
              "      </script>\n",
              "    </div>\n",
              "  </div>\n",
              "  "
            ]
          },
          "metadata": {},
          "execution_count": 17
        }
      ]
    },
    {
      "cell_type": "code",
      "source": [
        ""
      ],
      "metadata": {
        "id": "gwnTtfaRtTWI"
      },
      "execution_count": null,
      "outputs": []
    }
  ]
}